{
  "nbformat": 4,
  "nbformat_minor": 0,
  "metadata": {
    "colab": {
      "provenance": []
    },
    "kernelspec": {
      "name": "python3",
      "display_name": "Python 3"
    },
    "language_info": {
      "name": "python"
    }
  },
  "cells": [
    {
      "cell_type": "markdown",
      "source": [
        "## Temporal Filtering of UNOSAT Damage Assessment Data\n",
        "\n",
        "This notebook automates the extraction of the temporally closest damage observation per site from a multi-date UNOSAT damage assessment dataset. The source data, structured as a GeoJSON file, includes point-based damage features with repeated temporal observations across multiple fields (`SensorDate`, `SensorDate_2`, ..., `SensorDate_9`). The objective is to isolate the date of observation that is closest to a given reference date — in this case, **February 18, 2025** — for each individual damage point.\n",
        "\n",
        "---\n",
        "\n",
        "### Methodology\n",
        "\n",
        "1. **Data Loading and Inspection**\n",
        "   - The notebook loads the GeoJSON file using `geopandas`, identifies all date-related columns, and ensures they are parsed as datetime objects.\n",
        "\n",
        "2. **Closest Date Identification**\n",
        "   - For each feature, the script:\n",
        "     - Iterates over all valid observation dates\n",
        "     - Computes the absolute time difference from the target date\n",
        "     - Selects the date with the smallest difference\n",
        "   - The result is stored in a new column, `closest_date`.\n",
        "\n",
        "3. **Temporal Filtering (Optional)**\n",
        "   - A subset of features can be extracted that fall within a specified time window around the target date (e.g., ±1 day).\n",
        "\n",
        "4. **Data Export**\n",
        "   - The filtered dataset is exported as a new GeoJSON file for visualization or further analysis in GIS environments.\n",
        "\n",
        "---\n",
        "\n",
        "### Applications\n",
        "\n",
        "This workflow is useful for:\n",
        "- **Conflict damage monitoring**\n",
        "- **Time-sensitive impact analysis**\n",
        "- Selecting representative damage records for a known **reference event or strike date**\n",
        "- Reducing multi-temporal complexity into a single-date representation for mapping and statistics\n",
        "\n",
        "---\n",
        "\n",
        "### Technologies Used\n",
        "\n",
        "- Python 3\n",
        "- `geopandas`, `pandas`, `datetime`\n",
        "- Jupyter Notebook or Google Colab\n",
        "\n",
        "---\n",
        "\n",
        "The notebook ensures reproducible and scalable preprocessing of UNOSAT damage data for spatiotemporal filtering, enabling targeted analysis and integration with field observations or remote sensing datasets.\n"
      ],
      "metadata": {
        "id": "NHZxV1VMDGnU"
      }
    },
    {
      "cell_type": "code",
      "execution_count": 1,
      "metadata": {
        "colab": {
          "base_uri": "https://localhost:8080/"
        },
        "id": "MuyNGa4FBWYJ",
        "outputId": "7eeadb9a-c84c-4c28-e483-4dfeea3724b2"
      },
      "outputs": [
        {
          "output_type": "stream",
          "name": "stdout",
          "text": [
            "Requirement already satisfied: geopandas in /usr/local/lib/python3.11/dist-packages (1.0.1)\n",
            "Requirement already satisfied: numpy>=1.22 in /usr/local/lib/python3.11/dist-packages (from geopandas) (2.0.2)\n",
            "Requirement already satisfied: pyogrio>=0.7.2 in /usr/local/lib/python3.11/dist-packages (from geopandas) (0.11.0)\n",
            "Requirement already satisfied: packaging in /usr/local/lib/python3.11/dist-packages (from geopandas) (24.2)\n",
            "Requirement already satisfied: pandas>=1.4.0 in /usr/local/lib/python3.11/dist-packages (from geopandas) (2.2.2)\n",
            "Requirement already satisfied: pyproj>=3.3.0 in /usr/local/lib/python3.11/dist-packages (from geopandas) (3.7.1)\n",
            "Requirement already satisfied: shapely>=2.0.0 in /usr/local/lib/python3.11/dist-packages (from geopandas) (2.1.1)\n",
            "Requirement already satisfied: python-dateutil>=2.8.2 in /usr/local/lib/python3.11/dist-packages (from pandas>=1.4.0->geopandas) (2.9.0.post0)\n",
            "Requirement already satisfied: pytz>=2020.1 in /usr/local/lib/python3.11/dist-packages (from pandas>=1.4.0->geopandas) (2025.2)\n",
            "Requirement already satisfied: tzdata>=2022.7 in /usr/local/lib/python3.11/dist-packages (from pandas>=1.4.0->geopandas) (2025.2)\n",
            "Requirement already satisfied: certifi in /usr/local/lib/python3.11/dist-packages (from pyogrio>=0.7.2->geopandas) (2025.4.26)\n",
            "Requirement already satisfied: six>=1.5 in /usr/local/lib/python3.11/dist-packages (from python-dateutil>=2.8.2->pandas>=1.4.0->geopandas) (1.17.0)\n"
          ]
        }
      ],
      "source": [
        "# Install necessary libraries (only needed in Colab)\n",
        "!pip install geopandas\n",
        "\n",
        "# Imports\n",
        "import geopandas as gpd\n",
        "import pandas as pd\n",
        "from datetime import datetime"
      ]
    },
    {
      "cell_type": "code",
      "source": [
        "# Upload your filefrom\n",
        "from google.colab import drive\n",
        "drive.mount('/content/drive')\n",
        "\n",
        "# Load GeoJSON\n",
        "gdf = gpd.read_file(\"/content/drive/MyDrive/UNOSAT_damage_pts.geojson\")"
      ],
      "metadata": {
        "colab": {
          "base_uri": "https://localhost:8080/"
        },
        "id": "zf--2LfBBZdD",
        "outputId": "69fd2b3b-ea67-41a3-8235-ae93546e33ab"
      },
      "execution_count": 3,
      "outputs": [
        {
          "output_type": "stream",
          "name": "stdout",
          "text": [
            "Drive already mounted at /content/drive; to attempt to forcibly remount, call drive.mount(\"/content/drive\", force_remount=True).\n"
          ]
        }
      ]
    },
    {
      "cell_type": "code",
      "source": [
        "# Identify all SensorDate columns\n",
        "date_columns = [col for col in gdf.columns if col.startswith(\"SensorDate\")]"
      ],
      "metadata": {
        "id": "zcQQ_gffF6ja"
      },
      "execution_count": 4,
      "outputs": []
    },
    {
      "cell_type": "code",
      "source": [
        "# Convert all date columns to datetime\n",
        "for col in date_columns:\n",
        "    gdf[col] = pd.to_datetime(gdf[col], errors='coerce')"
      ],
      "metadata": {
        "id": "okMjpp0bCD09"
      },
      "execution_count": 5,
      "outputs": []
    },
    {
      "cell_type": "code",
      "source": [
        "# Extract the most recent (max) date per row\n",
        "def most_recent_date(row):\n",
        "    valid_dates = [row[col] for col in date_columns if pd.notnull(row[col])]\n",
        "    return max(valid_dates) if valid_dates else pd.NaT\n",
        "\n",
        "gdf[\"most_recent_date\"] = gdf.apply(most_recent_date, axis=1)"
      ],
      "metadata": {
        "id": "rPAJKdLzCbaM"
      },
      "execution_count": 6,
      "outputs": []
    },
    {
      "cell_type": "code",
      "source": [
        "# Optional: Drop rows with no dates at all\n",
        "gdf = gdf[gdf[\"most_recent_date\"].notnull()]"
      ],
      "metadata": {
        "id": "Ji19t8ZCCgxj"
      },
      "execution_count": 7,
      "outputs": []
    },
    {
      "cell_type": "code",
      "source": [
        "# Save to GeoJSON\n",
        "output_file = \"UNOSAT_most_recent.geojson\"\n",
        "gdf.to_file(output_file, driver=\"GeoJSON\")"
      ],
      "metadata": {
        "id": "YeyIrMHWCidb"
      },
      "execution_count": 8,
      "outputs": []
    },
    {
      "cell_type": "code",
      "source": [
        "# Download the result\n",
        "from google.colab import files\n",
        "files.download(output_file)"
      ],
      "metadata": {
        "colab": {
          "base_uri": "https://localhost:8080/",
          "height": 17
        },
        "id": "_R96x5d2GBSh",
        "outputId": "cbc937c3-f3fa-4f6b-e6d3-a57d24d46076"
      },
      "execution_count": 9,
      "outputs": [
        {
          "output_type": "display_data",
          "data": {
            "text/plain": [
              "<IPython.core.display.Javascript object>"
            ],
            "application/javascript": [
              "\n",
              "    async function download(id, filename, size) {\n",
              "      if (!google.colab.kernel.accessAllowed) {\n",
              "        return;\n",
              "      }\n",
              "      const div = document.createElement('div');\n",
              "      const label = document.createElement('label');\n",
              "      label.textContent = `Downloading \"${filename}\": `;\n",
              "      div.appendChild(label);\n",
              "      const progress = document.createElement('progress');\n",
              "      progress.max = size;\n",
              "      div.appendChild(progress);\n",
              "      document.body.appendChild(div);\n",
              "\n",
              "      const buffers = [];\n",
              "      let downloaded = 0;\n",
              "\n",
              "      const channel = await google.colab.kernel.comms.open(id);\n",
              "      // Send a message to notify the kernel that we're ready.\n",
              "      channel.send({})\n",
              "\n",
              "      for await (const message of channel.messages) {\n",
              "        // Send a message to notify the kernel that we're ready.\n",
              "        channel.send({})\n",
              "        if (message.buffers) {\n",
              "          for (const buffer of message.buffers) {\n",
              "            buffers.push(buffer);\n",
              "            downloaded += buffer.byteLength;\n",
              "            progress.value = downloaded;\n",
              "          }\n",
              "        }\n",
              "      }\n",
              "      const blob = new Blob(buffers, {type: 'application/binary'});\n",
              "      const a = document.createElement('a');\n",
              "      a.href = window.URL.createObjectURL(blob);\n",
              "      a.download = filename;\n",
              "      div.appendChild(a);\n",
              "      a.click();\n",
              "      div.remove();\n",
              "    }\n",
              "  "
            ]
          },
          "metadata": {}
        },
        {
          "output_type": "display_data",
          "data": {
            "text/plain": [
              "<IPython.core.display.Javascript object>"
            ],
            "application/javascript": [
              "download(\"download_fe5534d2-189c-42b9-bfb6-ff328297f4f5\", \"UNOSAT_most_recent.geojson\", 259996372)"
            ]
          },
          "metadata": {}
        }
      ]
    }
  ]
}