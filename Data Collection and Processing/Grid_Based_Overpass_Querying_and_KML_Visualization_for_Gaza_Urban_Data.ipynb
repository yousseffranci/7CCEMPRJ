{
  "nbformat": 4,
  "nbformat_minor": 0,
  "metadata": {
    "colab": {
      "provenance": []
    },
    "kernelspec": {
      "name": "python3",
      "display_name": "Python 3"
    },
    "language_info": {
      "name": "python"
    }
  },
  "cells": [
    {
      "cell_type": "markdown",
      "source": [
        "## Automated Extraction of OSM Building Footprints in Gaza Using Overpass API\n",
        "\n",
        "This Python script implements an automated spatial data extraction pipeline for building footprints in the Gaza Strip using the OpenStreetMap (OSM) Overpass API. The script divides the Gaza region into **30 spatially uniform grid cells** (organized in a 5-row by 6-column layout) and performs an **iterative data retrieval** for each cell. This strategy enables manageable querying of OSM data by subregion, thereby overcoming common API limitations related to large bounding boxes, server timeout constraints, and memory usage.\n",
        "\n",
        "---\n",
        "\n",
        "### Methodological Overview\n",
        "\n",
        "#### 1. **Library Initialization**\n",
        "The script uses the following Python packages:\n",
        "- `overpy`: Interfaces with the Overpass API.\n",
        "- `geojson`: Constructs GeoJSON feature collections.\n",
        "- `tqdm`: Provides a progress bar during looping.\n",
        "\n",
        "#### 2. **Spatial Grid Definition**\n",
        "The Gaza Strip is bounded approximately by:\n",
        "- **Latitude**: 31.22° N to 31.62° N  \n",
        "- **Longitude**: 34.22° E to 34.55° E  \n",
        "\n",
        "The area is subdivided into **30 rectangular zones** by calculating uniform steps in latitude and longitude. Each zone is identified (Z1 through Z30) and stored as a bounding box in a dictionary.\n",
        "\n",
        "#### 3. **Overpass Query Execution**\n",
        "For each zone, the script constructs a query using Overpass QL that selects all building features:\n",
        "\n",
        "```ql\n",
        "way[\"building\"](min_lat, min_lon, max_lat, max_lon);\n"
      ],
      "metadata": {
        "id": "N46WqynA5zjR"
      }
    },
    {
      "cell_type": "code",
      "execution_count": 7,
      "metadata": {
        "colab": {
          "base_uri": "https://localhost:8080/"
        },
        "id": "ZxrU5I1F3P6Z",
        "outputId": "72853139-f818-44ea-d2b0-68a6db919ea2"
      },
      "outputs": [
        {
          "output_type": "stream",
          "name": "stdout",
          "text": [
            "Requirement already satisfied: overpy in /usr/local/lib/python3.11/dist-packages (0.7)\n",
            "Requirement already satisfied: geojson in /usr/local/lib/python3.11/dist-packages (3.2.0)\n",
            "Requirement already satisfied: tqdm in /usr/local/lib/python3.11/dist-packages (4.67.1)\n"
          ]
        },
        {
          "output_type": "stream",
          "name": "stderr",
          "text": [
            "  3%|▎         | 1/30 [00:12<06:01, 12.46s/it]"
          ]
        },
        {
          "output_type": "stream",
          "name": "stdout",
          "text": [
            "Z1: 27546 buildings saved.\n"
          ]
        },
        {
          "output_type": "stream",
          "name": "stderr",
          "text": [
            "\r  7%|▋         | 2/30 [00:19<04:13,  9.06s/it]"
          ]
        },
        {
          "output_type": "stream",
          "name": "stdout",
          "text": [
            "Z2: 19417 buildings saved.\n"
          ]
        },
        {
          "output_type": "stream",
          "name": "stderr",
          "text": [
            "\r 10%|█         | 3/30 [00:21<02:36,  5.78s/it]"
          ]
        },
        {
          "output_type": "stream",
          "name": "stdout",
          "text": [
            "Z3: 1872 buildings saved.\n"
          ]
        },
        {
          "output_type": "stream",
          "name": "stderr",
          "text": [
            "\r 13%|█▎        | 4/30 [00:22<01:41,  3.92s/it]"
          ]
        },
        {
          "output_type": "stream",
          "name": "stdout",
          "text": [
            "Z4: 807 buildings saved.\n"
          ]
        },
        {
          "output_type": "stream",
          "name": "stderr",
          "text": [
            "\r 17%|█▋        | 5/30 [00:22<01:09,  2.78s/it]"
          ]
        },
        {
          "output_type": "stream",
          "name": "stdout",
          "text": [
            "Z5: 229 buildings saved.\n"
          ]
        },
        {
          "output_type": "stream",
          "name": "stderr",
          "text": [
            "\r 20%|██        | 6/30 [00:23<00:47,  2.00s/it]"
          ]
        },
        {
          "output_type": "stream",
          "name": "stdout",
          "text": [
            "Z6: 0 buildings saved.\n"
          ]
        },
        {
          "output_type": "stream",
          "name": "stderr",
          "text": [
            "\r 23%|██▎       | 7/30 [00:28<01:10,  3.08s/it]"
          ]
        },
        {
          "output_type": "stream",
          "name": "stdout",
          "text": [
            "Z7: 16990 buildings saved.\n"
          ]
        },
        {
          "output_type": "stream",
          "name": "stderr",
          "text": [
            "\r 27%|██▋       | 8/30 [01:11<05:44, 15.68s/it]"
          ]
        },
        {
          "output_type": "stream",
          "name": "stdout",
          "text": [
            "Z8: 53355 buildings saved.\n"
          ]
        },
        {
          "output_type": "stream",
          "name": "stderr",
          "text": [
            "\r 30%|███       | 9/30 [01:28<05:39, 16.19s/it]"
          ]
        },
        {
          "output_type": "stream",
          "name": "stdout",
          "text": [
            "Z9: 26950 buildings saved.\n"
          ]
        },
        {
          "output_type": "stream",
          "name": "stderr",
          "text": [
            "\r 33%|███▎      | 10/30 [01:29<03:49, 11.47s/it]"
          ]
        },
        {
          "output_type": "stream",
          "name": "stdout",
          "text": [
            "Z10: 412 buildings saved.\n"
          ]
        },
        {
          "output_type": "stream",
          "name": "stderr",
          "text": [
            "\r 37%|███▋      | 11/30 [01:29<02:32,  8.05s/it]"
          ]
        },
        {
          "output_type": "stream",
          "name": "stdout",
          "text": [
            "Z11: 3 buildings saved.\n"
          ]
        },
        {
          "output_type": "stream",
          "name": "stderr",
          "text": [
            "\r 40%|████      | 12/30 [01:31<01:50,  6.13s/it]"
          ]
        },
        {
          "output_type": "stream",
          "name": "stdout",
          "text": [
            "Z12: 149 buildings saved.\n"
          ]
        },
        {
          "output_type": "stream",
          "name": "stderr",
          "text": [
            "\r 43%|████▎     | 13/30 [01:31<01:14,  4.37s/it]"
          ]
        },
        {
          "output_type": "stream",
          "name": "stdout",
          "text": [
            "Z13: 0 buildings saved.\n"
          ]
        },
        {
          "output_type": "stream",
          "name": "stderr",
          "text": [
            "\r 47%|████▋     | 14/30 [01:33<00:57,  3.59s/it]"
          ]
        },
        {
          "output_type": "stream",
          "name": "stdout",
          "text": [
            "Z14: 4938 buildings saved.\n"
          ]
        },
        {
          "output_type": "stream",
          "name": "stderr",
          "text": [
            "\r 50%|█████     | 15/30 [01:58<02:31, 10.11s/it]"
          ]
        },
        {
          "output_type": "stream",
          "name": "stdout",
          "text": [
            "Z15: 36658 buildings saved.\n"
          ]
        },
        {
          "output_type": "stream",
          "name": "stderr",
          "text": [
            "\r 53%|█████▎    | 16/30 [02:08<02:20, 10.05s/it]"
          ]
        },
        {
          "output_type": "stream",
          "name": "stdout",
          "text": [
            "Z16: 20761 buildings saved.\n"
          ]
        },
        {
          "output_type": "stream",
          "name": "stderr",
          "text": [
            "\r 57%|█████▋    | 17/30 [02:10<01:38,  7.56s/it]"
          ]
        },
        {
          "output_type": "stream",
          "name": "stdout",
          "text": [
            "Z17: 1047 buildings saved.\n"
          ]
        },
        {
          "output_type": "stream",
          "name": "stderr",
          "text": [
            "\r 60%|██████    | 18/30 [02:11<01:07,  5.66s/it]"
          ]
        },
        {
          "output_type": "stream",
          "name": "stdout",
          "text": [
            "Z18: 707 buildings saved.\n"
          ]
        },
        {
          "output_type": "stream",
          "name": "stderr",
          "text": [
            "\r 63%|██████▎   | 19/30 [02:12<00:44,  4.07s/it]"
          ]
        },
        {
          "output_type": "stream",
          "name": "stdout",
          "text": [
            "Z19: 0 buildings saved.\n"
          ]
        },
        {
          "output_type": "stream",
          "name": "stderr",
          "text": [
            "\r 67%|██████▋   | 20/30 [02:14<00:35,  3.53s/it]"
          ]
        },
        {
          "output_type": "stream",
          "name": "stdout",
          "text": [
            "Z20: 0 buildings saved.\n"
          ]
        },
        {
          "output_type": "stream",
          "name": "stderr",
          "text": [
            "\r 70%|███████   | 21/30 [02:15<00:24,  2.73s/it]"
          ]
        },
        {
          "output_type": "stream",
          "name": "stdout",
          "text": [
            "Z21: 483 buildings saved.\n"
          ]
        },
        {
          "output_type": "stream",
          "name": "stderr",
          "text": [
            "\r 73%|███████▎  | 22/30 [02:21<00:30,  3.76s/it]"
          ]
        },
        {
          "output_type": "stream",
          "name": "stdout",
          "text": [
            "Z22: 16538 buildings saved.\n"
          ]
        },
        {
          "output_type": "stream",
          "name": "stderr",
          "text": [
            "\r 77%|███████▋  | 23/30 [04:04<03:55, 33.68s/it]"
          ]
        },
        {
          "output_type": "stream",
          "name": "stdout",
          "text": [
            "Z23: 62171 buildings saved.\n"
          ]
        },
        {
          "output_type": "stream",
          "name": "stderr",
          "text": [
            "\r 80%|████████  | 24/30 [04:13<02:36, 26.10s/it]"
          ]
        },
        {
          "output_type": "stream",
          "name": "stdout",
          "text": [
            "Z24: 16498 buildings saved.\n"
          ]
        },
        {
          "output_type": "stream",
          "name": "stderr",
          "text": [
            "\r 83%|████████▎ | 25/30 [04:13<01:31, 18.37s/it]"
          ]
        },
        {
          "output_type": "stream",
          "name": "stdout",
          "text": [
            "Z25: 0 buildings saved.\n"
          ]
        },
        {
          "output_type": "stream",
          "name": "stderr",
          "text": [
            "\r 87%|████████▋ | 26/30 [04:13<00:51, 12.94s/it]"
          ]
        },
        {
          "output_type": "stream",
          "name": "stdout",
          "text": [
            "Z26: 0 buildings saved.\n"
          ]
        },
        {
          "output_type": "stream",
          "name": "stderr",
          "text": [
            "\r 90%|█████████ | 27/30 [04:14<00:27,  9.15s/it]"
          ]
        },
        {
          "output_type": "stream",
          "name": "stdout",
          "text": [
            "Z27: 0 buildings saved.\n"
          ]
        },
        {
          "output_type": "stream",
          "name": "stderr",
          "text": [
            "\r 93%|█████████▎| 28/30 [04:14<00:13,  6.50s/it]"
          ]
        },
        {
          "output_type": "stream",
          "name": "stdout",
          "text": [
            "Z28: 0 buildings saved.\n"
          ]
        },
        {
          "output_type": "stream",
          "name": "stderr",
          "text": [
            "\r 97%|█████████▋| 29/30 [04:20<00:06,  6.26s/it]"
          ]
        },
        {
          "output_type": "stream",
          "name": "stdout",
          "text": [
            "Z29: 13998 buildings saved.\n"
          ]
        },
        {
          "output_type": "stream",
          "name": "stderr",
          "text": [
            "100%|██████████| 30/30 [04:26<00:00,  8.87s/it]"
          ]
        },
        {
          "output_type": "stream",
          "name": "stdout",
          "text": [
            "Z30: 13988 buildings saved.\n"
          ]
        },
        {
          "output_type": "stream",
          "name": "stderr",
          "text": [
            "\n"
          ]
        }
      ],
      "source": [
        "!pip install overpy geojson tqdm\n",
        "\n",
        "import overpy\n",
        "import geojson\n",
        "from tqdm import tqdm\n",
        "\n",
        "api = overpy.Overpass()\n",
        "\n",
        "# Define bounds\n",
        "min_lat, max_lat = 31.22, 31.62\n",
        "min_lon, max_lon = 34.22, 34.55\n",
        "lat_step = (max_lat - min_lat) / 5\n",
        "lon_step = (max_lon - min_lon) / 6\n",
        "\n",
        "zones = {}\n",
        "\n",
        "zone_id = 1\n",
        "for i in range(5):  # rows\n",
        "    for j in range(6):  # cols\n",
        "        zones[f\"Z{zone_id}\"] = {\n",
        "            \"min_lat\": min_lat + i * lat_step,\n",
        "            \"max_lat\": min_lat + (i + 1) * lat_step,\n",
        "            \"min_lon\": min_lon + j * lon_step,\n",
        "            \"max_lon\": min_lon + (j + 1) * lon_step\n",
        "        }\n",
        "        zone_id += 1\n",
        "\n",
        "# Loop through and query\n",
        "for zone_name, bbox in tqdm(zones.items()):\n",
        "    query = f\"\"\"\n",
        "    [out:json][timeout:300];\n",
        "    (\n",
        "      way[\"building\"]({bbox['min_lat']},{bbox['min_lon']},{bbox['max_lat']},{bbox['max_lon']});\n",
        "    );\n",
        "    (._;>;);\n",
        "    out body;\n",
        "    \"\"\"\n",
        "    try:\n",
        "        result = api.query(query)\n",
        "        features = []\n",
        "        for way in result.ways:\n",
        "            coords = [(float(node.lon), float(node.lat)) for node in way.nodes]\n",
        "            if coords[0] != coords[-1]:\n",
        "                coords.append(coords[0])\n",
        "            features.append(geojson.Feature(\n",
        "                geometry=geojson.Polygon([coords]),\n",
        "                properties={\"id\": way.id, **way.tags, \"zone\": zone_name}\n",
        "            ))\n",
        "        collection = geojson.FeatureCollection(features)\n",
        "        with open(f\"{zone_name}.geojson\", \"w\") as f:\n",
        "            geojson.dump(collection, f)\n",
        "        print(f\"{zone_name}: {len(features)} buildings saved.\")\n",
        "    except Exception as e:\n",
        "        print(f\"{zone_name} failed: {e}\")"
      ]
    },
    {
      "cell_type": "code",
      "source": [
        "!zip gaza_30zones.zip Z*.geojson"
      ],
      "metadata": {
        "colab": {
          "base_uri": "https://localhost:8080/"
        },
        "id": "Fd6NMvkl3hTt",
        "outputId": "d45eb242-1d9a-47c0-d3a1-f622aabe08ef"
      },
      "execution_count": 8,
      "outputs": [
        {
          "output_type": "stream",
          "name": "stdout",
          "text": [
            "  adding: Z10.geojson (deflated 85%)\n",
            "  adding: Z11.geojson (deflated 68%)\n",
            "  adding: Z12.geojson (deflated 86%)\n",
            "  adding: Z13.geojson (deflated 7%)\n",
            "  adding: Z14.geojson (deflated 88%)\n",
            "  adding: Z15.geojson (deflated 87%)\n",
            "  adding: Z16.geojson (deflated 87%)\n",
            "  adding: Z17.geojson (deflated 87%)\n",
            "  adding: Z18.geojson (deflated 86%)\n",
            "  adding: Z19.geojson (deflated 7%)\n",
            "  adding: Z1.geojson (deflated 87%)\n",
            "  adding: Z20.geojson (deflated 7%)\n",
            "  adding: Z21.geojson (deflated 87%)\n",
            "  adding: Z22.geojson (deflated 87%)\n",
            "  adding: Z23.geojson (deflated 88%)\n",
            "  adding: Z24.geojson (deflated 87%)\n",
            "  adding: Z25.geojson (deflated 7%)\n",
            "  adding: Z26.geojson (deflated 7%)\n",
            "  adding: Z27.geojson (deflated 7%)\n",
            "  adding: Z28.geojson (deflated 7%)\n",
            "  adding: Z29.geojson (deflated 88%)\n",
            "  adding: Z2.geojson (deflated 87%)\n",
            "  adding: Z30.geojson (deflated 88%)\n",
            "  adding: Z3.geojson (deflated 87%)\n",
            "  adding: Z4.geojson (deflated 86%)\n",
            "  adding: Z5.geojson (deflated 87%)\n",
            "  adding: Z6.geojson (deflated 7%)\n",
            "  adding: Z7.geojson (deflated 87%)\n",
            "  adding: Z8.geojson (deflated 87%)\n",
            "  adding: Z9.geojson (deflated 87%)\n"
          ]
        }
      ]
    },
    {
      "cell_type": "markdown",
      "source": [
        "## Generation of a 30-Zone Spatial Grid over the Gaza Strip (KML Output)\n",
        "\n",
        "This Python script constructs a 30-zone spatial grid overlay for the Gaza Strip and exports it in **KML format** for use in geospatial platforms such as **QGIS**, **Google Earth**, or web-based map viewers. The purpose of this grid is to spatially subdivide the Gaza Strip into manageable units for mapping, data collection, or Overpass API querying.\n",
        "\n",
        "---\n",
        "\n",
        "### Methodological Overview\n",
        "\n",
        "#### 1. **Grid Definition**\n",
        "The bounding box for the Gaza Strip is defined as:\n",
        "- **Latitude**: 31.22° N to 31.62° N  \n",
        "- **Longitude**: 34.22° E to 34.55° E  \n",
        "\n",
        "This area is subdivided into a grid of **5 rows** (north–south) and **6 columns** (west–east), resulting in **30 equal rectangular zones**. The dimensions of each zone are:\n",
        "- **Latitude step**: 0.08°\n",
        "- **Longitude step**: 0.055°\n",
        "\n",
        "Each grid cell is labeled sequentially from **Z1** to **Z30**, starting from the northwest corner and proceeding row-wise.\n",
        "\n",
        "#### 2. **KML Geometry Construction**\n",
        "Using the `simplekml` library:\n",
        "- Each zone is represented as a rectangular **polygon** with a transparent red fill (`#66ff0000`) and a visible border.\n",
        "- A labeled **point** is placed at the centroid of each zone for visual reference.\n",
        "\n",
        "#### 3. **Zone Metadata Storage**\n",
        "For every zone, the script records:\n",
        "- Bounding coordinates (`MinLat`, `MaxLat`, `MinLon`, `MaxLon`)\n",
        "- Grid position (`Row`, `Column`)\n",
        "- Zone ID (`Z1` to `Z30`)\n",
        "\n",
        "This metadata is stored in a Python list (`zone_data`) for further analysis or tabular export (e.g., as a CSV or Pandas DataFrame).\n",
        "\n",
        "#### 4. **File Output**\n",
        "The output file is saved as:\n",
        "```bash\n",
        "gaza_grid_30zones.kml\n"
      ],
      "metadata": {
        "id": "rGbylRMo6BWY"
      }
    },
    {
      "cell_type": "code",
      "source": [
        "!pip install simplekml pandas"
      ],
      "metadata": {
        "colab": {
          "base_uri": "https://localhost:8080/"
        },
        "id": "ucTv6D1C5wSa",
        "outputId": "a4892785-8fe2-4ea5-b555-4d095c2afb4a"
      },
      "execution_count": 9,
      "outputs": [
        {
          "output_type": "stream",
          "name": "stdout",
          "text": [
            "Collecting simplekml\n",
            "  Downloading simplekml-1.3.6.tar.gz (52 kB)\n",
            "\u001b[?25l     \u001b[90m━━━━━━━━━━━━━━━━━━━━━━━━━━━━━━━━━━━━━━━━\u001b[0m \u001b[32m0.0/53.0 kB\u001b[0m \u001b[31m?\u001b[0m eta \u001b[36m-:--:--\u001b[0m\r\u001b[2K     \u001b[90m━━━━━━━━━━━━━━━━━━━━━━━━━━━━━━━━━━━━━━━━\u001b[0m \u001b[32m53.0/53.0 kB\u001b[0m \u001b[31m2.4 MB/s\u001b[0m eta \u001b[36m0:00:00\u001b[0m\n",
            "\u001b[?25h  Preparing metadata (setup.py) ... \u001b[?25l\u001b[?25hdone\n",
            "Requirement already satisfied: pandas in /usr/local/lib/python3.11/dist-packages (2.2.2)\n",
            "Requirement already satisfied: numpy>=1.23.2 in /usr/local/lib/python3.11/dist-packages (from pandas) (2.0.2)\n",
            "Requirement already satisfied: python-dateutil>=2.8.2 in /usr/local/lib/python3.11/dist-packages (from pandas) (2.9.0.post0)\n",
            "Requirement already satisfied: pytz>=2020.1 in /usr/local/lib/python3.11/dist-packages (from pandas) (2025.2)\n",
            "Requirement already satisfied: tzdata>=2022.7 in /usr/local/lib/python3.11/dist-packages (from pandas) (2025.2)\n",
            "Requirement already satisfied: six>=1.5 in /usr/local/lib/python3.11/dist-packages (from python-dateutil>=2.8.2->pandas) (1.17.0)\n",
            "Building wheels for collected packages: simplekml\n",
            "  Building wheel for simplekml (setup.py) ... \u001b[?25l\u001b[?25hdone\n",
            "  Created wheel for simplekml: filename=simplekml-1.3.6-py3-none-any.whl size=65860 sha256=33f95682fd9c6f49eababfb37a218bf14b88b0f4516578c8157a0ff01f75858c\n",
            "  Stored in directory: /root/.cache/pip/wheels/72/3e/80/c3e5c354c3cbe62d8c5e4fb63d9e7cdccc7f93399997ae465f\n",
            "Successfully built simplekml\n",
            "Installing collected packages: simplekml\n",
            "Successfully installed simplekml-1.3.6\n"
          ]
        }
      ]
    },
    {
      "cell_type": "code",
      "source": [
        "import simplekml\n",
        "import pandas as pd\n",
        "\n",
        "min_lat, max_lat = 31.22, 31.62\n",
        "min_lon, max_lon = 34.22, 34.55\n",
        "lat_step = (max_lat - min_lat) / 5\n",
        "lon_step = (max_lon - min_lon) / 6\n",
        "\n",
        "kml = simplekml.Kml()\n",
        "zone_data = []\n",
        "zone_id = 1\n",
        "\n",
        "for row in range(5):\n",
        "    for col in range(6):\n",
        "        min_lat_zone = min_lat + row * lat_step\n",
        "        max_lat_zone = min_lat + (row + 1) * lat_step\n",
        "        min_lon_zone = min_lon + col * lon_step\n",
        "        max_lon_zone = min_lon + (col + 1) * lon_step\n",
        "        zone_name = f\"Z{zone_id}\"\n",
        "\n",
        "        pol = kml.newpolygon(\n",
        "            name=zone_name,\n",
        "            outerboundaryis=[\n",
        "                (min_lon_zone, min_lat_zone),\n",
        "                (min_lon_zone, max_lat_zone),\n",
        "                (max_lon_zone, max_lat_zone),\n",
        "                (max_lon_zone, min_lat_zone),\n",
        "                (min_lon_zone, min_lat_zone)\n",
        "            ]\n",
        "        )\n",
        "        pol.style.polystyle.color = '66ff0000'\n",
        "        pol.style.linestyle.width = 1.5\n",
        "        center_lat = (min_lat_zone + max_lat_zone) / 2\n",
        "        center_lon = (min_lon_zone + max_lon_zone) / 2\n",
        "        kml.newpoint(name=zone_name, coords=[(center_lon, center_lat)])\n",
        "\n",
        "        zone_data.append({\n",
        "            \"Zone\": zone_name,\n",
        "            \"MinLat\": min_lat_zone,\n",
        "            \"MaxLat\": max_lat_zone,\n",
        "            \"MinLon\": min_lon_zone,\n",
        "            \"MaxLon\": max_lon_zone,\n",
        "            \"Row\": row + 1,\n",
        "            \"Column\": col + 1\n",
        "        })\n",
        "        zone_id += 1\n",
        "\n",
        "kml.save(\"gaza_grid_30zones.kml\")\n",
        "print(\"KML file saved as gaza_grid_30zones.kml\")\n"
      ],
      "metadata": {
        "colab": {
          "base_uri": "https://localhost:8080/"
        },
        "id": "h2fX1e4X6FJx",
        "outputId": "8ef1702f-c092-462b-c099-76316a86e67d"
      },
      "execution_count": 10,
      "outputs": [
        {
          "output_type": "stream",
          "name": "stdout",
          "text": [
            "KML file saved as gaza_grid_30zones.kml\n"
          ]
        }
      ]
    },
    {
      "cell_type": "code",
      "source": [],
      "metadata": {
        "id": "86tXsuy86ltp"
      },
      "execution_count": null,
      "outputs": []
    }
  ]
}